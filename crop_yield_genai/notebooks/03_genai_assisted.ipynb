{
 "cells": [
  {
   "cell_type": "code",
   "execution_count": null,
   "id": "a1e5c0e7-8100-4fc3-a872-6d12c2832c25",
   "metadata": {},
   "outputs": [],
   "source": []
  },
  {
   "cell_type": "markdown",
   "id": "45af984f-0de7-4c72-a1b8-1cfae480a21e",
   "metadata": {},
   "source": [
    "# Prototype B — Crop Yield Prediction (GenAI-Assisted)\n",
    "We add a simple GDD feature and use a compact RF hyperparameter grid via GridSearchCV, inspired by GenAI suggestions.\n"
   ]
  },
  {
   "cell_type": "code",
   "execution_count": 9,
   "id": "9c7cee9a-6d34-4768-9d7f-37693c0dca11",
   "metadata": {},
   "outputs": [
    {
     "name": "stdout",
     "output_type": "stream",
     "text": [
      "PROJECT_ROOT: D:\\2 Level\\AI Business\\Assignment 2\\crop_yield_genai\n",
      "DATA_PATH: D:\\2 Level\\AI Business\\Assignment 2\\crop_yield_genai\\data\\crop_yield_sample.csv | exists? True\n",
      "OUT_MODELS: D:\\2 Level\\AI Business\\Assignment 2\\crop_yield_genai\\outputs\\models\n",
      "OUT_FIGS: D:\\2 Level\\AI Business\\Assignment 2\\crop_yield_genai\\outputs\\figures\n"
     ]
    }
   ],
   "source": [
    "# ---- Path bootstrap: find project root and set canonical paths ----\n",
    "import sys\n",
    "from pathlib import Path\n",
    "\n",
    "def locate_project_root() -> Path:\n",
    "    here = Path.cwd().resolve()\n",
    "    for p in [here, *here.parents]:\n",
    "        if (p / \"src\").is_dir():\n",
    "            return p\n",
    "    raise RuntimeError(f\"Couldn't find project root containing 'src' from {here}\")\n",
    "\n",
    "PROJECT_ROOT = locate_project_root()\n",
    "\n",
    "# Ensure project root is importable so \"from src...\" works\n",
    "if str(PROJECT_ROOT) not in sys.path:\n",
    "    sys.path.insert(0, str(PROJECT_ROOT))\n",
    "\n",
    "# Canonical paths (ALWAYS relative to project root)\n",
    "DATA_PATH  = PROJECT_ROOT / \"data\" / \"crop_yield_sample.csv\"\n",
    "OUT_MODELS = PROJECT_ROOT / \"outputs\" / \"models\"\n",
    "OUT_FIGS   = PROJECT_ROOT / \"outputs\" / \"figures\"\n",
    "OUT_MODELS.mkdir(parents=True, exist_ok=True)\n",
    "OUT_FIGS.mkdir(parents=True, exist_ok=True)\n",
    "\n",
    "print(\"PROJECT_ROOT:\", PROJECT_ROOT)\n",
    "print(\"DATA_PATH:\", DATA_PATH, \"| exists?\", DATA_PATH.exists())\n",
    "print(\"OUT_MODELS:\", OUT_MODELS)\n",
    "print(\"OUT_FIGS:\", OUT_FIGS)\n"
   ]
  },
  {
   "cell_type": "code",
   "execution_count": 12,
   "id": "1f3a4fbe",
   "metadata": {},
   "outputs": [
    {
     "ename": "ImportError",
     "evalue": "cannot import name 'ensure_year_column' from 'src.data_preprocessing' (D:\\2 Level\\AI Business\\Assignment 2\\crop_yield_genai\\src\\data_preprocessing.py)",
     "output_type": "error",
     "traceback": [
      "\u001b[1;31m---------------------------------------------------------------------------\u001b[0m",
      "\u001b[1;31mImportError\u001b[0m                               Traceback (most recent call last)",
      "Cell \u001b[1;32mIn[12], line 2\u001b[0m\n\u001b[0;32m      1\u001b[0m \u001b[38;5;66;03m# Core imports from your src package\u001b[39;00m\n\u001b[1;32m----> 2\u001b[0m \u001b[38;5;28;01mfrom\u001b[39;00m \u001b[38;5;21;01msrc\u001b[39;00m\u001b[38;5;21;01m.\u001b[39;00m\u001b[38;5;21;01mdata_preprocessing\u001b[39;00m \u001b[38;5;28;01mimport\u001b[39;00m (\n\u001b[0;32m      3\u001b[0m     load_data, basic_clean, add_gdd_feature, encode_categoricals,\n\u001b[0;32m      4\u001b[0m     select_features, ensure_year_column, time_based_split\n\u001b[0;32m      5\u001b[0m )\n\u001b[0;32m      7\u001b[0m \u001b[38;5;28;01mfrom\u001b[39;00m \u001b[38;5;21;01msrc\u001b[39;00m\u001b[38;5;21;01m.\u001b[39;00m\u001b[38;5;21;01mmodel\u001b[39;00m \u001b[38;5;28;01mimport\u001b[39;00m train_linear_regression, train_random_forest, evaluate, save_model\n\u001b[0;32m      8\u001b[0m \u001b[38;5;28;01mfrom\u001b[39;00m \u001b[38;5;21;01msrc\u001b[39;00m\u001b[38;5;21;01m.\u001b[39;00m\u001b[38;5;21;01mvisualization\u001b[39;00m \u001b[38;5;28;01mimport\u001b[39;00m plot_residuals, plot_feature_importance\n",
      "\u001b[1;31mImportError\u001b[0m: cannot import name 'ensure_year_column' from 'src.data_preprocessing' (D:\\2 Level\\AI Business\\Assignment 2\\crop_yield_genai\\src\\data_preprocessing.py)"
     ]
    }
   ],
   "source": [
    "# Core imports from your src package\n",
    "from src.data_preprocessing import (\n",
    "    load_data, basic_clean, add_gdd_feature, encode_categoricals,\n",
    "    select_features, ensure_year_column, time_based_split\n",
    ")\n",
    "\n",
    "from src.model import train_linear_regression, train_random_forest, evaluate, save_model\n",
    "from src.visualization import plot_residuals, plot_feature_importance\n",
    "\n",
    "# External libs\n",
    "import numpy as np\n",
    "import pandas as pd\n",
    "from sklearn.metrics import r2_score, mean_absolute_error, mean_squared_error\n",
    "from sklearn.ensemble import RandomForestRegressor\n",
    "import joblib\n",
    "\n",
    "# Notebook-only helper: GDD feature (used by GenAI-assisted pipeline)\n",
    "def add_gdd_feature(df: pd.DataFrame, base_temp: float = 10.0) -> pd.DataFrame:\n",
    "    \"\"\"\n",
    "    Approximate Growing Degree Days (GDD) using mean daily temperature proxy.\n",
    "    GDD ~ max(0, Temperature_C - base_temp). Here we use the single Temperature_C value.\n",
    "    \"\"\"\n",
    "    df = df.copy()\n",
    "    if \"Temperature_C\" not in df.columns:\n",
    "        raise KeyError(\"Temperature_C is required to compute GDD_approx\")\n",
    "    df[\"GDD_approx\"] = (df[\"Temperature_C\"] - float(base_temp)).clip(lower=0)\n",
    "    return df\n",
    "\n",
    "print(\"Imports OK. Helpers ready.\")\n"
   ]
  },
  {
   "cell_type": "code",
   "execution_count": null,
   "id": "ffe64e89",
   "metadata": {},
   "outputs": [],
   "source": []
  },
  {
   "cell_type": "code",
   "execution_count": null,
   "id": "60702d80",
   "metadata": {},
   "outputs": [],
   "source": []
  },
  {
   "cell_type": "code",
   "execution_count": null,
   "id": "486a67c3",
   "metadata": {},
   "outputs": [],
   "source": []
  },
  {
   "cell_type": "code",
   "execution_count": null,
   "id": "2457cb1b-c376-475a-830a-199d06cc2844",
   "metadata": {},
   "outputs": [
    {
     "ename": "ModuleNotFoundError",
     "evalue": "No module named 'src'",
     "output_type": "error",
     "traceback": [
      "\u001b[1;31m---------------------------------------------------------------------------\u001b[0m",
      "\u001b[1;31mModuleNotFoundError\u001b[0m                       Traceback (most recent call last)",
      "Cell \u001b[1;32mIn[1], line 6\u001b[0m\n\u001b[0;32m      3\u001b[0m \u001b[38;5;28;01mimport\u001b[39;00m \u001b[38;5;21;01mpandas\u001b[39;00m \u001b[38;5;28;01mas\u001b[39;00m \u001b[38;5;21;01mpd\u001b[39;00m\n\u001b[0;32m      4\u001b[0m \u001b[38;5;28;01mimport\u001b[39;00m \u001b[38;5;21;01mnumpy\u001b[39;00m \u001b[38;5;28;01mas\u001b[39;00m \u001b[38;5;21;01mnp\u001b[39;00m\n\u001b[1;32m----> 6\u001b[0m \u001b[38;5;28;01mfrom\u001b[39;00m \u001b[38;5;21;01msrc\u001b[39;00m\u001b[38;5;21;01m.\u001b[39;00m\u001b[38;5;21;01mdata_preprocessing\u001b[39;00m \u001b[38;5;28;01mimport\u001b[39;00m load_data, basic_clean, add_gdd_feature, encode_categoricals, select_features, time_based_split\n\u001b[0;32m      7\u001b[0m \u001b[38;5;28;01mfrom\u001b[39;00m \u001b[38;5;21;01msrc\u001b[39;00m\u001b[38;5;21;01m.\u001b[39;00m\u001b[38;5;21;01mmodel\u001b[39;00m \u001b[38;5;28;01mimport\u001b[39;00m train_linear_regression, train_rf_gridsearch, suggested_rf_grid, evaluate, save_model\n\u001b[0;32m      8\u001b[0m \u001b[38;5;28;01mfrom\u001b[39;00m \u001b[38;5;21;01msrc\u001b[39;00m\u001b[38;5;21;01m.\u001b[39;00m\u001b[38;5;21;01mvisualization\u001b[39;00m \u001b[38;5;28;01mimport\u001b[39;00m plot_residuals, plot_feature_importance\n",
      "\u001b[1;31mModuleNotFoundError\u001b[0m: No module named 'src'"
     ]
    }
   ],
   "source": [
    "import os\n",
    "from pathlib import Path\n",
    "import pandas as pd\n",
    "import numpy as np\n",
    "\n",
    "from src.data_preprocessing import load_data, basic_clean, add_gdd_feature, encode_categoricals, select_features, time_based_split\n",
    "from src.model import train_linear_regression, train_rf_gridsearch, suggested_rf_grid, evaluate, save_model\n",
    "from src.visualization import plot_residuals, plot_feature_importance\n",
    "\n",
    "BASE = Path.cwd().resolve()\n",
    "DATA_PATH = BASE / \"data\" / \"crop_yield_sample.csv\"\n",
    "OUT_MODELS = BASE / \"outputs\" / \"models\"\n",
    "OUT_FIGS = BASE / \"outputs\" / \"figures\"\n",
    "OUT_TEXT = BASE / \"outputs\"\n",
    "OUT_MODELS.mkdir(parents=True, exist_ok=True)\n",
    "OUT_FIGS.mkdir(parents=True, exist_ok=True)\n",
    "\n",
    "print(\"Working dir:\", BASE)\n",
    "print(\"Data path:\", DATA_PATH)\n"
   ]
  },
  {
   "cell_type": "code",
   "execution_count": null,
   "id": "4f06e5ed-d176-4f78-9bcc-6f57d6dac50a",
   "metadata": {},
   "outputs": [],
   "source": []
  },
  {
   "cell_type": "code",
   "execution_count": null,
   "id": "e6909fc3-4c8a-4596-97d7-6ae0f7001761",
   "metadata": {},
   "outputs": [],
   "source": [
    "df = load_data(str(DATA_PATH))\n",
    "df = basic_clean(df)\n",
    "df = add_gdd_feature(df, base_temp=10.0)  # GenAI-inspired feature\n",
    "df = encode_categoricals(df)\n",
    "df.head()\n"
   ]
  },
  {
   "cell_type": "code",
   "execution_count": null,
   "id": "17fd73bf-fe6f-4f4e-936d-6a42cafd2fb6",
   "metadata": {},
   "outputs": [],
   "source": []
  },
  {
   "cell_type": "code",
   "execution_count": null,
   "id": "212bef0e-7dd7-4af9-835a-a17a527e0d52",
   "metadata": {},
   "outputs": [],
   "source": [
    "train_df, test_df = time_based_split(df, time_col=\"Year\", test_years=2)\n",
    "X_train, y_train, feature_names = select_features(train_df)\n",
    "X_test, y_test, _ = select_features(test_df, features=feature_names)\n",
    "feature_names, len(train_df), len(test_df)\n"
   ]
  },
  {
   "cell_type": "code",
   "execution_count": null,
   "id": "bb536c7b-4c83-473c-b3b5-cf81f4a3dbe0",
   "metadata": {},
   "outputs": [],
   "source": []
  },
  {
   "cell_type": "code",
   "execution_count": null,
   "id": "7469459c-3a2e-48c2-9743-220d82f68305",
   "metadata": {},
   "outputs": [],
   "source": [
    "lr = train_linear_regression(X_train, y_train)\n",
    "y_pred_lr = lr.predict(X_test)\n",
    "metrics_lr = evaluate(y_test.values, y_pred_lr)\n",
    "metrics_lr\n"
   ]
  },
  {
   "cell_type": "code",
   "execution_count": null,
   "id": "776bc37c-cb88-40d3-be9e-2b97dfe5ee0e",
   "metadata": {},
   "outputs": [],
   "source": []
  },
  {
   "cell_type": "code",
   "execution_count": null,
   "id": "7d8ce582-a4c3-4f48-9fd0-e3b5411ef1ea",
   "metadata": {},
   "outputs": [],
   "source": [
    "grid = suggested_rf_grid(small_data=True)\n",
    "grid\n"
   ]
  },
  {
   "cell_type": "code",
   "execution_count": null,
   "id": "394d0476-a56e-4363-98d6-14d8eb4f00f7",
   "metadata": {},
   "outputs": [],
   "source": []
  },
  {
   "cell_type": "code",
   "execution_count": null,
   "id": "515762af-162b-47fa-9504-5ff082449c4c",
   "metadata": {},
   "outputs": [],
   "source": [
    "y_pred_rf = rf_best.predict(X_test)\n",
    "metrics_rf = evaluate(y_test.values, y_pred_rf)\n",
    "metrics_rf\n",
    "\n",
    "plot_residuals(y_test.values, y_pred_rf, str(OUT_FIGS / \"residuals_rf_genai.png\"))\n",
    "plot_feature_importance(rf_best, feature_names, str(OUT_FIGS / \"feature_importance_rf_genai.png\"))\n",
    "\n",
    "eda_narrative = \"\"\"\n",
    "### EDA Narrative (Draft)\n",
    "- Residuals are mostly centered; slight spread at high predictions hints mild heteroskedasticity.\n",
    "- Feature importance: rainfall and fertilizer dominate; temperature and GDD_approx contribute.\n",
    "- Next: add soil/NDVI, try gradient boosting, use SHAP for explanations.\n",
    "\"\"\"\n",
    "(Path(OUT_TEXT) / \"eda_narrative_genai.md\").write_text(eda_narrative)\n",
    "\"Saved narrative to outputs/eda_narrative_genai.md\"\n"
   ]
  },
  {
   "cell_type": "code",
   "execution_count": null,
   "id": "a7d7521f-f685-4a32-9157-b4486ad1b099",
   "metadata": {},
   "outputs": [],
   "source": []
  },
  {
   "cell_type": "code",
   "execution_count": null,
   "id": "a06815e5-400b-4076-a41e-04e68db7896e",
   "metadata": {},
   "outputs": [],
   "source": [
    "save_path = OUT_MODELS / \"genai_rf.pkl\"\n",
    "save_model(rf_best, str(save_path))\n",
    "str(save_path)\n"
   ]
  },
  {
   "cell_type": "code",
   "execution_count": null,
   "id": "ec87dc04-a0a4-4f7f-8f64-f2f3bd01bb02",
   "metadata": {},
   "outputs": [],
   "source": []
  },
  {
   "cell_type": "code",
   "execution_count": null,
   "id": "659bc5fa-15c8-48ad-a06e-64b9b6709a94",
   "metadata": {},
   "outputs": [],
   "source": [
    "import pandas as pd\n",
    "results = pd.DataFrame([\n",
    "    {\"Model\": \"Linear Regression (GDD)\", **metrics_lr},\n",
    "    {\"Model\": \"RF (GenAI-assisted grid)\", **metrics_rf},\n",
    "]).set_index(\"Model\")\n",
    "results\n"
   ]
  },
  {
   "cell_type": "code",
   "execution_count": null,
   "id": "96b77ad9-f34e-4803-9e67-16bc06697731",
   "metadata": {},
   "outputs": [],
   "source": []
  },
  {
   "cell_type": "code",
   "execution_count": null,
   "id": "fbf906dd-4dd1-4d49-9bab-00e312155f03",
   "metadata": {},
   "outputs": [],
   "source": []
  },
  {
   "cell_type": "code",
   "execution_count": null,
   "id": "a10e29a1-7393-4740-82f5-a9a8d06f77ad",
   "metadata": {},
   "outputs": [],
   "source": []
  },
  {
   "cell_type": "code",
   "execution_count": null,
   "id": "35453cd7-75ba-4c7e-8d1b-c04b2b49448c",
   "metadata": {},
   "outputs": [],
   "source": []
  }
 ],
 "metadata": {
  "kernelspec": {
   "display_name": "base",
   "language": "python",
   "name": "python3"
  },
  "language_info": {
   "codemirror_mode": {
    "name": "ipython",
    "version": 3
   },
   "file_extension": ".py",
   "mimetype": "text/x-python",
   "name": "python",
   "nbconvert_exporter": "python",
   "pygments_lexer": "ipython3",
   "version": "3.12.4"
  }
 },
 "nbformat": 4,
 "nbformat_minor": 5
}
