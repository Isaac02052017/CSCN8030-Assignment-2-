{
 "cells": [
  {
   "cell_type": "code",
   "execution_count": null,
   "id": "b97a1fe9-1ebf-4fc2-b5a7-a3d06dfae392",
   "metadata": {},
   "outputs": [],
   "source": []
  },
  {
   "cell_type": "markdown",
   "id": "6c503bca-9e07-4cc5-872e-c90948069bca",
   "metadata": {},
   "source": [
    "# Prototype A — Crop Yield Prediction (No GenAI)\n",
    "Goal: Train traditional ML baselines (Linear Regression & Random Forest) to predict `Yield_kg_ha`\n",
    "from seasonal features using a time-based split (train on earlier years, test on last 2 years).\n"
   ]
  },
  {
   "cell_type": "code",
   "execution_count": null,
   "id": "58e80c91-171c-48b1-ad14-2c11af39c290",
   "metadata": {},
   "outputs": [],
   "source": []
  },
  {
   "cell_type": "code",
   "execution_count": 16,
   "id": "3581023f-59f6-4dad-9d57-396b37862ac8",
   "metadata": {},
   "outputs": [
    {
     "name": "stdout",
     "output_type": "stream",
     "text": [
      "Project root added to path: d:\\2 Level\\AI Business\\Assignment 2\\crop_yield_no_genai\n",
      "PROJECT_ROOT: D:\\2 Level\\AI Business\\Assignment 2\\crop_yield_no_genai\n",
      "DATA_PATH: D:\\2 Level\\AI Business\\Assignment 2\\crop_yield_no_genai\\data\\crop_yield_sample.csv\n",
      "OUT_MODELS: D:\\2 Level\\AI Business\\Assignment 2\\crop_yield_no_genai\\outputs\\models\n",
      "OUT_FIGS: D:\\2 Level\\AI Business\\Assignment 2\\crop_yield_no_genai\\outputs\\figures\n",
      "CSV exists? True\n",
      "Working dir: D:\\2 Level\\AI Business\\Assignment 2\\crop_yield_no_genai\\notebooks\n",
      "Data path: D:\\2 Level\\AI Business\\Assignment 2\\crop_yield_no_genai\\notebooks\\data\\crop_yield_sample.csv\n"
     ]
    }
   ],
   "source": [
    "import os\n",
    "from pathlib import Path\n",
    "import pandas as pd\n",
    "import numpy as np\n",
    "\n",
    "import sys\n",
    "from pathlib import Path\n",
    "\n",
    "# Go up one level from notebooks/ to project root\n",
    "project_root = Path.cwd().parent\n",
    "if str(project_root) not in sys.path:\n",
    "    sys.path.insert(0, str(project_root))\n",
    "\n",
    "print(\"Project root added to path:\", project_root)\n",
    "# ---- Path bootstrap: make 'src' importable and set project-level paths ----\n",
    "import sys, os\n",
    "from pathlib import Path\n",
    "\n",
    "def locate_project_root() -> Path:\n",
    "    \"\"\"\n",
    "    Find the directory that contains 'src/' (your project root)\n",
    "    regardless of where the notebook is run from.\n",
    "    \"\"\"\n",
    "    candidates = []\n",
    "\n",
    "    # Current working dir and a few parents\n",
    "    here = Path.cwd().resolve()\n",
    "    candidates += [here, here.parent, here.parent.parent, here.parent.parent.parent]\n",
    "\n",
    "    # If nbconvert defines __file__, add those parents too\n",
    "    if '__file__' in globals():\n",
    "        nb_dir = Path(__file__).resolve().parent\n",
    "        candidates += [nb_dir, nb_dir.parent, nb_dir.parent.parent]\n",
    "\n",
    "    # Walk up a few more levels just in case\n",
    "    p = here\n",
    "    for _ in range(5):\n",
    "        candidates.append(p)\n",
    "        p = p.parent\n",
    "\n",
    "    seen = set()\n",
    "    uniq = []\n",
    "    for c in candidates:\n",
    "        if c and str(c) not in seen:\n",
    "            uniq.append(c)\n",
    "            seen.add(str(c))\n",
    "\n",
    "    for c in uniq:\n",
    "        if (c / \"src\").is_dir():\n",
    "            return c\n",
    "\n",
    "    raise RuntimeError(\n",
    "        \"Could not locate project root containing 'src/'. \"\n",
    "        f\"Tried: {[str(c) for c in uniq]}\"\n",
    "    )\n",
    "\n",
    "PROJECT_ROOT = locate_project_root()\n",
    "\n",
    "# Ensure project root is on sys.path so \"from src... import ...\" works\n",
    "if str(PROJECT_ROOT) not in sys.path:\n",
    "    sys.path.insert(0, str(PROJECT_ROOT))\n",
    "\n",
    "# Define canonical paths (ALWAYS relative to project root)\n",
    "DATA_PATH  = PROJECT_ROOT / \"data\" / \"crop_yield_sample.csv\"\n",
    "OUT_MODELS = PROJECT_ROOT / \"outputs\" / \"models\"\n",
    "OUT_FIGS   = PROJECT_ROOT / \"outputs\" / \"figures\"\n",
    "\n",
    "OUT_MODELS.mkdir(parents=True, exist_ok=True)\n",
    "OUT_FIGS.mkdir(parents=True, exist_ok=True)\n",
    "\n",
    "print(\"PROJECT_ROOT:\", PROJECT_ROOT)\n",
    "print(\"DATA_PATH:\", DATA_PATH)\n",
    "print(\"OUT_MODELS:\", OUT_MODELS)\n",
    "print(\"OUT_FIGS:\", OUT_FIGS)\n",
    "print(\"CSV exists?\", DATA_PATH.exists())\n",
    "\n",
    "\n",
    "\n",
    "from src.data_preprocessing import load_data, basic_clean, encode_categoricals, select_features, time_based_split\n",
    "from src.model import train_linear_regression, train_random_forest, evaluate, save_model\n",
    "from src.visualization import plot_residuals, plot_feature_importance\n",
    "from sklearn.dummy import DummyRegressor\n",
    "\n",
    "BASE = Path.cwd().resolve()\n",
    "DATA_PATH = BASE / \"data\" / \"crop_yield_sample.csv\"\n",
    "OUT_MODELS = BASE / \"outputs\" / \"models\"\n",
    "OUT_FIGS = BASE / \"outputs\" / \"figures\"\n",
    "OUT_MODELS.mkdir(parents=True, exist_ok=True)\n",
    "OUT_FIGS.mkdir(parents=True, exist_ok=True)\n",
    "\n",
    "print(\"Working dir:\", BASE)\n",
    "print(\"Data path:\", DATA_PATH)\n"
   ]
  },
  {
   "cell_type": "code",
   "execution_count": 17,
   "id": "020537a5-5279-4148-a7d9-8645dfc59dde",
   "metadata": {},
   "outputs": [
    {
     "name": "stdout",
     "output_type": "stream",
     "text": [
      "PROJECT_ROOT: D:\\2 Level\\AI Business\\Assignment 2\\crop_yield_no_genai\n",
      "DATA_PATH: D:\\2 Level\\AI Business\\Assignment 2\\crop_yield_no_genai\\data\\crop_yield_sample.csv | exists? True\n",
      "OUT_MODELS: D:\\2 Level\\AI Business\\Assignment 2\\crop_yield_no_genai\\outputs\\models\n",
      "OUT_FIGS: D:\\2 Level\\AI Business\\Assignment 2\\crop_yield_no_genai\\outputs\\figures\n",
      "Rows → train/test: 6 2\n",
      "X shapes → train/test: (6, 3) (2, 3)\n",
      "Features used: ['Rainfall_mm', 'Temperature_C', 'Fertilizer_kg']\n",
      "Train years: [np.int64(2016), np.int64(2017), np.int64(2018)] ... Test years: [np.int64(2019), np.int64(2020)]\n"
     ]
    }
   ],
   "source": [
    "# ---- Path bootstrap: find project root and set canonical paths ----\n",
    "import sys\n",
    "from pathlib import Path\n",
    "\n",
    "def locate_project_root() -> Path:\n",
    "    here = Path.cwd().resolve()\n",
    "    # walk up until we find a folder that contains 'src'\n",
    "    for p in [here, *here.parents]:\n",
    "        if (p / \"src\").is_dir():\n",
    "            return p\n",
    "    raise RuntimeError(f\"Couldn't find project root containing 'src' from {here}\")\n",
    "\n",
    "PROJECT_ROOT = locate_project_root()\n",
    "\n",
    "# Ensure project root is importable so 'from src...' works\n",
    "if str(PROJECT_ROOT) not in sys.path:\n",
    "    sys.path.insert(0, str(PROJECT_ROOT))\n",
    "\n",
    "# Define paths RELATIVE TO PROJECT ROOT (not cwd!)\n",
    "DATA_PATH  = PROJECT_ROOT / \"data\" / \"crop_yield_sample.csv\"\n",
    "OUT_MODELS = PROJECT_ROOT / \"outputs\" / \"models\"\n",
    "OUT_FIGS   = PROJECT_ROOT / \"outputs\" / \"figures\"\n",
    "OUT_MODELS.mkdir(parents=True, exist_ok=True)\n",
    "OUT_FIGS.mkdir(parents=True, exist_ok=True)\n",
    "\n",
    "print(\"PROJECT_ROOT:\", PROJECT_ROOT)\n",
    "print(\"DATA_PATH:\", DATA_PATH, \"| exists?\", DATA_PATH.exists())\n",
    "print(\"OUT_MODELS:\", OUT_MODELS)\n",
    "print(\"OUT_FIGS:\", OUT_FIGS)\n",
    "\n",
    "# ---- Pipeline: load, clean, encode, split, select features ----\n",
    "from src.data_preprocessing import (\n",
    "    load_data, basic_clean, encode_categoricals,\n",
    "    select_features, time_based_split\n",
    ")\n",
    "\n",
    "# 1) Load + clean\n",
    "df = load_data(str(DATA_PATH))\n",
    "df = basic_clean(df)\n",
    "df = encode_categoricals(df)\n",
    "\n",
    "# 2) Time-based split (robust: creates/derives Year if missing)\n",
    "train_df, test_df = time_based_split(df, time_col=\"Year\", test_years=2)\n",
    "\n",
    "# 3) Feature selection (keeps same features for train & test)\n",
    "X_train, y_train, feature_names = select_features(train_df)\n",
    "X_test, y_test, _ = select_features(test_df, features=feature_names)\n",
    "\n",
    "print(\"Rows → train/test:\", len(train_df), len(test_df))\n",
    "print(\"X shapes → train/test:\", X_train.shape, X_test.shape)\n",
    "print(\"Features used:\", feature_names)\n",
    "print(\"Train years:\", sorted(train_df['Year'].unique())[:5], \"...\",\n",
    "      \"Test years:\", sorted(test_df['Year'].unique())[:5])\n"
   ]
  },
  {
   "cell_type": "code",
   "execution_count": 18,
   "id": "951e01ca-0aba-4f36-87e2-e10ce0ea4100",
   "metadata": {},
   "outputs": [
    {
     "data": {
      "text/plain": [
       "((8, 4),\n",
       "    Rainfall_mm  Temperature_C  Fertilizer_kg  Yield_kg_ha\n",
       " 0          350             18             80         2800\n",
       " 1          420             20            100         3200\n",
       " 2          500             22            110         3500\n",
       " 3          600             25            120         3800\n",
       " 4          700             27            130         3700)"
      ]
     },
     "execution_count": 18,
     "metadata": {},
     "output_type": "execute_result"
    }
   ],
   "source": [
    "# df = load_data(str(DATA_PATH))\n",
    "df.shape, df.head()\n"
   ]
  },
  {
   "cell_type": "code",
   "execution_count": null,
   "id": "58473afc-5d19-4492-a6c3-2d518bf55535",
   "metadata": {},
   "outputs": [],
   "source": []
  },
  {
   "cell_type": "code",
   "execution_count": 19,
   "id": "5a7a0f2e-7c1b-456b-b3f1-56e8d5fea18e",
   "metadata": {},
   "outputs": [
    {
     "data": {
      "application/vnd.microsoft.datawrangler.viewer.v0+json": {
       "columns": [
        {
         "name": "index",
         "rawType": "int64",
         "type": "integer"
        },
        {
         "name": "Rainfall_mm",
         "rawType": "int64",
         "type": "integer"
        },
        {
         "name": "Temperature_C",
         "rawType": "int64",
         "type": "integer"
        },
        {
         "name": "Fertilizer_kg",
         "rawType": "int64",
         "type": "integer"
        },
        {
         "name": "Yield_kg_ha",
         "rawType": "int64",
         "type": "integer"
        }
       ],
       "ref": "3732cb2e-e3fe-46db-878f-7e8fb36d43e3",
       "rows": [
        [
         "0",
         "350",
         "18",
         "80",
         "2800"
        ],
        [
         "1",
         "420",
         "20",
         "100",
         "3200"
        ],
        [
         "2",
         "500",
         "22",
         "110",
         "3500"
        ],
        [
         "3",
         "600",
         "25",
         "120",
         "3800"
        ],
        [
         "4",
         "700",
         "27",
         "130",
         "3700"
        ]
       ],
       "shape": {
        "columns": 4,
        "rows": 5
       }
      },
      "text/html": [
       "<div>\n",
       "<style scoped>\n",
       "    .dataframe tbody tr th:only-of-type {\n",
       "        vertical-align: middle;\n",
       "    }\n",
       "\n",
       "    .dataframe tbody tr th {\n",
       "        vertical-align: top;\n",
       "    }\n",
       "\n",
       "    .dataframe thead th {\n",
       "        text-align: right;\n",
       "    }\n",
       "</style>\n",
       "<table border=\"1\" class=\"dataframe\">\n",
       "  <thead>\n",
       "    <tr style=\"text-align: right;\">\n",
       "      <th></th>\n",
       "      <th>Rainfall_mm</th>\n",
       "      <th>Temperature_C</th>\n",
       "      <th>Fertilizer_kg</th>\n",
       "      <th>Yield_kg_ha</th>\n",
       "    </tr>\n",
       "  </thead>\n",
       "  <tbody>\n",
       "    <tr>\n",
       "      <th>0</th>\n",
       "      <td>350</td>\n",
       "      <td>18</td>\n",
       "      <td>80</td>\n",
       "      <td>2800</td>\n",
       "    </tr>\n",
       "    <tr>\n",
       "      <th>1</th>\n",
       "      <td>420</td>\n",
       "      <td>20</td>\n",
       "      <td>100</td>\n",
       "      <td>3200</td>\n",
       "    </tr>\n",
       "    <tr>\n",
       "      <th>2</th>\n",
       "      <td>500</td>\n",
       "      <td>22</td>\n",
       "      <td>110</td>\n",
       "      <td>3500</td>\n",
       "    </tr>\n",
       "    <tr>\n",
       "      <th>3</th>\n",
       "      <td>600</td>\n",
       "      <td>25</td>\n",
       "      <td>120</td>\n",
       "      <td>3800</td>\n",
       "    </tr>\n",
       "    <tr>\n",
       "      <th>4</th>\n",
       "      <td>700</td>\n",
       "      <td>27</td>\n",
       "      <td>130</td>\n",
       "      <td>3700</td>\n",
       "    </tr>\n",
       "  </tbody>\n",
       "</table>\n",
       "</div>"
      ],
      "text/plain": [
       "   Rainfall_mm  Temperature_C  Fertilizer_kg  Yield_kg_ha\n",
       "0          350             18             80         2800\n",
       "1          420             20            100         3200\n",
       "2          500             22            110         3500\n",
       "3          600             25            120         3800\n",
       "4          700             27            130         3700"
      ]
     },
     "execution_count": 19,
     "metadata": {},
     "output_type": "execute_result"
    }
   ],
   "source": [
    "df = basic_clean(df)\n",
    "df = encode_categoricals(df)\n",
    "df.head()\n"
   ]
  },
  {
   "cell_type": "code",
   "execution_count": null,
   "id": "17507171-f98c-4b4f-abae-789aa6764f11",
   "metadata": {},
   "outputs": [],
   "source": []
  },
  {
   "cell_type": "code",
   "execution_count": 20,
   "id": "835eeb6e-31b7-4176-8c6a-9cc57a2fae6e",
   "metadata": {},
   "outputs": [
    {
     "data": {
      "text/plain": [
       "(6, 2, 2018, 2019)"
      ]
     },
     "execution_count": 20,
     "metadata": {},
     "output_type": "execute_result"
    }
   ],
   "source": [
    "train_df, test_df = time_based_split(df, time_col=\"Year\", test_years=2)\n",
    "len(train_df), len(test_df), int(train_df['Year'].max()), int(test_df['Year'].min())\n"
   ]
  },
  {
   "cell_type": "code",
   "execution_count": null,
   "id": "ef1524b9-c4a4-4da7-80d0-26bc82cea9ca",
   "metadata": {},
   "outputs": [],
   "source": []
  },
  {
   "cell_type": "code",
   "execution_count": 21,
   "id": "2a64e208-f124-4936-8018-023ab1d5e7c6",
   "metadata": {},
   "outputs": [
    {
     "data": {
      "text/plain": [
       "['Rainfall_mm', 'Temperature_C', 'Fertilizer_kg']"
      ]
     },
     "execution_count": 21,
     "metadata": {},
     "output_type": "execute_result"
    }
   ],
   "source": [
    "X_train, y_train, feature_names = select_features(train_df)\n",
    "X_test, y_test, _ = select_features(test_df, features=feature_names)\n",
    "feature_names\n"
   ]
  },
  {
   "cell_type": "code",
   "execution_count": null,
   "id": "5f8db0a9-89ba-4140-bbdc-e17768a5dfa6",
   "metadata": {},
   "outputs": [],
   "source": []
  },
  {
   "cell_type": "code",
   "execution_count": 22,
   "id": "bc0388c0-4237-4781-ae7c-c20c3a1273b0",
   "metadata": {},
   "outputs": [
    {
     "data": {
      "text/plain": [
       "{'MAE': 583.3333333333335, 'RMSE': 585.4722690083433, 'R2': -136.1111111111112}"
      ]
     },
     "execution_count": 22,
     "metadata": {},
     "output_type": "execute_result"
    }
   ],
   "source": [
    "dummy = DummyRegressor(strategy='mean')\n",
    "dummy.fit(X_train, y_train)\n",
    "y_pred_dummy = dummy.predict(X_test)\n",
    "metrics_dummy = evaluate(y_test.values, y_pred_dummy)\n",
    "metrics_dummy\n"
   ]
  },
  {
   "cell_type": "code",
   "execution_count": null,
   "id": "223e7c00-bfee-42a7-b646-b2e6f6a8f273",
   "metadata": {},
   "outputs": [],
   "source": []
  },
  {
   "cell_type": "code",
   "execution_count": 23,
   "id": "893f68dd-be97-45c4-944a-2c45151f5bbc",
   "metadata": {},
   "outputs": [],
   "source": [
    "lr = train_linear_regression(X_train, y_train)\n",
    "y_pred_lr = lr.predict(X_test)\n",
    "metrics_lr = evaluate(y_test.values, y_pred_lr)\n",
    "metrics_lr\n",
    "plot_residuals(y_test.values, y_pred_lr, str(OUT_FIGS / \"residuals_lr.png\"))\n"
   ]
  },
  {
   "cell_type": "code",
   "execution_count": null,
   "id": "276460fb-8443-441f-b73a-cdc1fc578afd",
   "metadata": {},
   "outputs": [],
   "source": []
  },
  {
   "cell_type": "code",
   "execution_count": 24,
   "id": "c9c74b62-c962-4aa5-8876-33cdc36ba4cd",
   "metadata": {},
   "outputs": [],
   "source": [
    "rf = train_random_forest(X_train, y_train, n_estimators=300, max_depth=None, min_samples_split=2, random_state=42)\n",
    "y_pred_rf = rf.predict(X_test)\n",
    "metrics_rf = evaluate(y_test.values, y_pred_rf)\n",
    "metrics_rf\n",
    "plot_residuals(y_test.values, y_pred_rf, str(OUT_FIGS / \"residuals_rf.png\"))\n",
    "plot_feature_importance(rf, feature_names, str(OUT_FIGS / \"feature_importance_rf.png\"))\n"
   ]
  },
  {
   "cell_type": "code",
   "execution_count": null,
   "id": "3ad13e93-f7f9-48e3-817a-bc7d39072ee4",
   "metadata": {},
   "outputs": [],
   "source": []
  },
  {
   "cell_type": "code",
   "execution_count": 25,
   "id": "eb2c5ed3-99c4-41a5-b726-cb465bd98d98",
   "metadata": {},
   "outputs": [
    {
     "data": {
      "application/vnd.microsoft.datawrangler.viewer.v0+json": {
       "columns": [
        {
         "name": "Model",
         "rawType": "object",
         "type": "string"
        },
        {
         "name": "MAE",
         "rawType": "float64",
         "type": "float"
        },
        {
         "name": "RMSE",
         "rawType": "float64",
         "type": "float"
        },
        {
         "name": "R2",
         "rawType": "float64",
         "type": "float"
        }
       ],
       "ref": "19174ccd-8e8f-40bc-ab1f-a21d10f97c3f",
       "rows": [
        [
         "Naïve (mean)",
         "583.3333333333335",
         "585.4722690083433",
         "-136.1111111111112"
        ],
        [
         "Linear Regression",
         "214.96788482835018",
         "275.75307499879915",
         "-29.415903348517343"
        ],
        [
         "Random Forest",
         "223.0",
         "232.84758963751375",
         "-20.6872"
        ]
       ],
       "shape": {
        "columns": 3,
        "rows": 3
       }
      },
      "text/html": [
       "<div>\n",
       "<style scoped>\n",
       "    .dataframe tbody tr th:only-of-type {\n",
       "        vertical-align: middle;\n",
       "    }\n",
       "\n",
       "    .dataframe tbody tr th {\n",
       "        vertical-align: top;\n",
       "    }\n",
       "\n",
       "    .dataframe thead th {\n",
       "        text-align: right;\n",
       "    }\n",
       "</style>\n",
       "<table border=\"1\" class=\"dataframe\">\n",
       "  <thead>\n",
       "    <tr style=\"text-align: right;\">\n",
       "      <th></th>\n",
       "      <th>MAE</th>\n",
       "      <th>RMSE</th>\n",
       "      <th>R2</th>\n",
       "    </tr>\n",
       "    <tr>\n",
       "      <th>Model</th>\n",
       "      <th></th>\n",
       "      <th></th>\n",
       "      <th></th>\n",
       "    </tr>\n",
       "  </thead>\n",
       "  <tbody>\n",
       "    <tr>\n",
       "      <th>Naïve (mean)</th>\n",
       "      <td>583.333333</td>\n",
       "      <td>585.472269</td>\n",
       "      <td>-136.111111</td>\n",
       "    </tr>\n",
       "    <tr>\n",
       "      <th>Linear Regression</th>\n",
       "      <td>214.967885</td>\n",
       "      <td>275.753075</td>\n",
       "      <td>-29.415903</td>\n",
       "    </tr>\n",
       "    <tr>\n",
       "      <th>Random Forest</th>\n",
       "      <td>223.000000</td>\n",
       "      <td>232.847590</td>\n",
       "      <td>-20.687200</td>\n",
       "    </tr>\n",
       "  </tbody>\n",
       "</table>\n",
       "</div>"
      ],
      "text/plain": [
       "                          MAE        RMSE          R2\n",
       "Model                                                \n",
       "Naïve (mean)       583.333333  585.472269 -136.111111\n",
       "Linear Regression  214.967885  275.753075  -29.415903\n",
       "Random Forest      223.000000  232.847590  -20.687200"
      ]
     },
     "execution_count": 25,
     "metadata": {},
     "output_type": "execute_result"
    }
   ],
   "source": [
    "results = pd.DataFrame([\n",
    "    {\"Model\": \"Naïve (mean)\", **metrics_dummy},\n",
    "    {\"Model\": \"Linear Regression\", **metrics_lr},\n",
    "    {\"Model\": \"Random Forest\", **metrics_rf},\n",
    "]).set_index(\"Model\")\n",
    "results\n"
   ]
  },
  {
   "cell_type": "code",
   "execution_count": null,
   "id": "85582c0b-b566-404e-a243-3d03ebb8c6bf",
   "metadata": {},
   "outputs": [],
   "source": []
  },
  {
   "cell_type": "code",
   "execution_count": 26,
   "id": "b716794e-c255-4a7b-9a2d-585bfcc3c888",
   "metadata": {},
   "outputs": [
    {
     "data": {
      "text/plain": [
       "'Random Forest'"
      ]
     },
     "execution_count": 26,
     "metadata": {},
     "output_type": "execute_result"
    }
   ],
   "source": [
    "best_name = results['RMSE'].idxmin()\n",
    "best_name\n"
   ]
  },
  {
   "cell_type": "code",
   "execution_count": null,
   "id": "e26984c3-18c5-4092-b44b-916466e782af",
   "metadata": {},
   "outputs": [],
   "source": []
  },
  {
   "cell_type": "code",
   "execution_count": 27,
   "id": "b3967583-48ef-4c28-b937-6ed843765221",
   "metadata": {},
   "outputs": [
    {
     "data": {
      "text/plain": [
       "WindowsPath('D:/2 Level/AI Business/Assignment 2/crop_yield_no_genai/outputs/models/baseline_rf.pkl')"
      ]
     },
     "execution_count": 27,
     "metadata": {},
     "output_type": "execute_result"
    }
   ],
   "source": [
    "if best_name == \"Random Forest\":\n",
    "    save_path = OUT_MODELS / \"baseline_rf.pkl\"\n",
    "    save_model(rf, str(save_path))\n",
    "elif best_name == \"Linear Regression\":\n",
    "    save_path = OUT_MODELS / \"baseline_lr.pkl\"\n",
    "    save_model(lr, str(save_path))\n",
    "else:\n",
    "    save_path = OUT_MODELS / \"baseline_lr.pkl\"\n",
    "    save_model(lr, str(save_path))\n",
    "\n",
    "save_path\n"
   ]
  },
  {
   "cell_type": "code",
   "execution_count": null,
   "id": "7b41fa8e-fba6-4630-9e91-b28cc4f0c7f4",
   "metadata": {},
   "outputs": [],
   "source": []
  },
  {
   "cell_type": "code",
   "execution_count": null,
   "id": "d7a36062-58b2-43f1-8729-ccdfa52f29fe",
   "metadata": {},
   "outputs": [],
   "source": []
  },
  {
   "cell_type": "code",
   "execution_count": null,
   "id": "072c2d5a-0770-48cb-8848-95f32e68828c",
   "metadata": {},
   "outputs": [],
   "source": []
  }
 ],
 "metadata": {
  "kernelspec": {
   "display_name": ".venv",
   "language": "python",
   "name": "python3"
  },
  "language_info": {
   "codemirror_mode": {
    "name": "ipython",
    "version": 3
   },
   "file_extension": ".py",
   "mimetype": "text/x-python",
   "name": "python",
   "nbconvert_exporter": "python",
   "pygments_lexer": "ipython3",
   "version": "3.12.10"
  }
 },
 "nbformat": 4,
 "nbformat_minor": 5
}
